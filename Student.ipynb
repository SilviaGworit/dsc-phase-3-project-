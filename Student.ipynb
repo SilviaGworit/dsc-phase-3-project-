{
 "cells": [
  {
   "cell_type": "markdown",
   "metadata": {},
   "source": [
    "## SYRIA TEL CUSTOMER CHURN PROJECT"
   ]
  },
  {
   "cell_type": "markdown",
   "metadata": {},
   "source": [
    "Final Project Submission\n",
    "\n",
    "Students Name: Silvia Gworit\n",
    "\n",
    "Student pace: Full time Hybrid\n",
    "\n",
    "Instructor name: Maryann Mwikali\n"
   ]
  },
  {
   "cell_type": "markdown",
   "metadata": {},
   "source": [
    "## BUSINESS UNDERSTANDING"
   ]
  },
  {
   "cell_type": "markdown",
   "metadata": {},
   "source": [
    "## Project Overview"
   ]
  },
  {
   "cell_type": "markdown",
   "metadata": {},
   "source": [
    "Syria Tel is a telecommunications company that is looking to optimize their resources and improve customer retention. Customer churn is when a customer leaves/discontinues their service with SyriaTel. Due to limited resources, they would like to focus their efforts on customers that are less likely to churn while still trying to retain customers who are likely to churn. This project aims to analyze a telecommunications dataset and develop a predictive model that determines if a customer will churn or not."
   ]
  },
  {
   "cell_type": "markdown",
   "metadata": {},
   "source": [
    "## Business Problem"
   ]
  },
  {
   "cell_type": "markdown",
   "metadata": {},
   "source": [
    "Syria Tel has noticed a number of customers churn from the company. The company looks to improve the customer retention and would like to be able to  determine if a customer is likely to churn from the company or not so as to know where to make improvements and where to allocate their resources effectively."
   ]
  },
  {
   "cell_type": "markdown",
   "metadata": {},
   "source": [
    "## Proposed Solution"
   ]
  },
  {
   "cell_type": "markdown",
   "metadata": {},
   "source": [
    "To build a predictive model that will be able to predict given certain features, the customers who are likely to churn and those who are not.\n",
    "This will help with coming up with strategies to retain the at risk customers and maximize their resources to improve services provided to customers who are less likely to churn."
   ]
  },
  {
   "cell_type": "markdown",
   "metadata": {},
   "source": [
    "## DATA UNDERSTANDING\n",
    "Our data is churn in telecom dataset\n",
    "\n",
    "Our data has 5 rows × 23 columns\n",
    "\n",
    "Our data gives information about the customers account and its features\n",
    "\n",
    "link: https://www.kaggle.com/datasets/becksddf/churn-in-telecoms-dataset/data"
   ]
  },
  {
   "cell_type": "markdown",
   "metadata": {},
   "source": [
    "## Columns\n",
    "\n",
    "1.CustomerID: Unique identifier for each customer.\n",
    "\n",
    "2.AccountLength: The length of time the customer has been with SyriaTel.\n",
    "\n",
    "3.InternationalPlan: If the customer has an international calling plan or not.\n",
    "\n",
    "4.VoiceMailPlan: If the customer has a voicemail plan or not.\n",
    "\n",
    "5.NumberVmailMessages: The number of voicemail messages received by the customer.\n",
    "\n",
    "6.TotalDayMinutes: Total number of minutes the customer used during the day.\n",
    "\n",
    "7.TotalEveMinutes: Total number of minutes the customer used during the evening.\n",
    "\n",
    "8.TotalNightMinutes: Total number of minutes the customer used during the night.\n",
    "\n",
    "9.TotalIntlMinutes: Total number of international minutes used by the customer.\n",
    "\n",
    "10.TotalDayCalls: Total number of calls made by the customer during the day.\n",
    "\n",
    "11.TotalEveCalls: Total number of calls made by the customer during the evening.\n",
    "\n",
    "12.TotalNightCalls: Total number of calls made by the customer during the night.\n",
    "\n",
    "13.TotalIntlCalls: Total number of international calls made by the customer.\n",
    "\n",
    "14.CustomerServiceCalls: Number of customer service calls made by the customer.\n",
    "\n",
    "15.Churn: Binary indicator of whether the customer churned or not."
   ]
  },
  {
   "cell_type": "markdown",
   "metadata": {},
   "source": [
    "## DATA PREPARATION"
   ]
  },
  {
   "cell_type": "code",
   "execution_count": 1,
   "metadata": {},
   "outputs": [],
   "source": [
    "# importing necessary libraries\n",
    "import pandas as pd\n",
    "import numpy as np\n",
    "import matplotlib.pyplot as plt\n",
    "import seaborn as sns"
   ]
  }
 ],
 "metadata": {
  "kernelspec": {
   "display_name": "learn-env",
   "language": "python",
   "name": "python3"
  },
  "language_info": {
   "codemirror_mode": {
    "name": "ipython",
    "version": 3
   },
   "file_extension": ".py",
   "mimetype": "text/x-python",
   "name": "python",
   "nbconvert_exporter": "python",
   "pygments_lexer": "ipython3",
   "version": "3.9.18"
  }
 },
 "nbformat": 4,
 "nbformat_minor": 2
}
